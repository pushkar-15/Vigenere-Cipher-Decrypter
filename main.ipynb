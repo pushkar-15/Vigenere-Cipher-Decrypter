{
 "cells": [
  {
   "cell_type": "code",
   "execution_count": 80,
   "id": "41d67d31",
   "metadata": {},
   "outputs": [],
   "source": [
    "import string\n",
    "from math import sqrt\n",
    "\n",
    "with open('vigenere\\helper-files\\mogambo.txt', 'r') as file:\n",
    "    C = file.read()\n",
    "    \n",
    "with open('vigenere\\helper-files\\interval.txt', 'r') as file:\n",
    "#     intervals_f = file.read()\n",
    "    intervals_lines = [line.rstrip() for line in file]\n",
    "    \n",
    "output_f = open(\"output.txt\", \"a\")"
   ]
  },
  {
   "cell_type": "code",
   "execution_count": 81,
   "id": "c59bf702",
   "metadata": {},
   "outputs": [],
   "source": [
    "# print(C)\n",
    "# print(\"\\n length :\", len(C))"
   ]
  },
  {
   "cell_type": "code",
   "execution_count": 82,
   "id": "32b54fda",
   "metadata": {},
   "outputs": [],
   "source": [
    "intervals = [intervals_lines[i] for i in range(1,len(intervals_lines),2)]\n",
    "# print(intervals)"
   ]
  },
  {
   "cell_type": "code",
   "execution_count": 83,
   "id": "1ba08746",
   "metadata": {},
   "outputs": [],
   "source": [
    "def _get_factors(number):\n",
    "    factors = set()\n",
    "    for i in range(1, int(sqrt(number))+1):\n",
    "        if number % i == 0:\n",
    "            factors.add(i)\n",
    "            factors.add(number//i)\n",
    "    return sorted(factors)\n",
    "\n",
    "\n",
    "def _candidate_key_lengths(factor_lists, max_key_len):\n",
    "    all_factors = [factor_lists[lst][fac] for lst in range(len(factor_lists)) for fac in range(len(factor_lists[lst]))]\n",
    "    \n",
    "    # exclude factors larger than suspected max key length\n",
    "    candidate_lengths = list(filter(lambda x:  x <= max_key_len, all_factors))\n",
    "    \n",
    "    # sort by probability (descending)\n",
    "    sorted_candidates = sorted(set(candidate_lengths), key=lambda x: all_factors.count(x), reverse=True)\n",
    "    return sorted_candidates\n",
    "\n",
    "\n",
    "mp = [[]]\n",
    "for interval in intervals:\n",
    "    factors = _get_factors(int(interval))\n",
    "#     for x in factors: mp.append(x)\n",
    "    mp.append(factors)\n",
    "        \n",
    "# print(mp)\n",
    "\n",
    "        \n",
    "# freq = {}\n",
    "# for item in mp:\n",
    "#     if (item in freq):\n",
    "#         freq[item] += 1\n",
    "#     else:\n",
    "#         freq[item] = 1\n",
    "\n",
    "# for key, value in freq.items():\n",
    "#     if key<=50: print(\"% d : % d\" % (key, value))"
   ]
  },
  {
   "cell_type": "code",
   "execution_count": 84,
   "id": "37980e7e",
   "metadata": {},
   "outputs": [
    {
     "name": "stdout",
     "output_type": "stream",
     "text": [
      "[1, 2, 3, 6, 4, 12, 9, 18, 8, 16, 7, 14, 5, 10, 15, 13, 19, 11, 20, 17]\n"
     ]
    }
   ],
   "source": [
    "print(_candidate_key_lengths(mp, 20))"
   ]
  },
  {
   "cell_type": "code",
   "execution_count": 85,
   "id": "a8be9592",
   "metadata": {},
   "outputs": [],
   "source": [
    "# hence guessed key length is 6.\n",
    "\n",
    "# make 6 groups by sliding window and do frequency analysis on 6 groups:\n",
    "# i, i+6, i+12, ...\n",
    "# i+1, i+7, i+13, ...\n",
    "#...\n",
    "# i+5, i+11, 1+17, ...\n",
    "\n",
    "\n",
    "# groups_0 = []\n",
    "# groups_1 = []\n",
    "# groups_2 = []\n",
    "# groups_3 = []\n",
    "# groups_4 = []\n",
    "# groups_5 = []\n",
    "\n",
    "# groups_0 = [C[i] for i in range(0, len(C), 6)]\n",
    "# groups_1 = [C[i] for i in range(1, len(C), 6)]\n",
    "# groups_2 = [C[i] for i in range(2, len(C), 6)]\n",
    "# groups_3 = [C[i] for i in range(3, len(C), 6)]\n",
    "# groups_4 = [C[i] for i in range(4, len(C), 6)]\n",
    "# groups_5 = [C[i] for i in range(5, len(C), 6)]\n",
    "\n",
    "\n",
    "groups = []\n",
    "for k in range(6):\n",
    "    groups.append([C[i] for i in range(k, len(C), 6)])\n",
    "    \n",
    "# groups[5]"
   ]
  },
  {
   "cell_type": "code",
   "execution_count": 86,
   "id": "0426acaf",
   "metadata": {},
   "outputs": [],
   "source": [
    "# Frequency Analysis:\n",
    "\n",
    "def character_frequency(char_list):\n",
    "    frequency_dict = {}\n",
    "    for char in char_list:\n",
    "        if char in frequency_dict:\n",
    "            frequency_dict[char] += 1\n",
    "        else:\n",
    "            frequency_dict[char] = 1\n",
    "    return frequency_dict\n",
    "\n",
    "\n",
    "f = []\n",
    "for i in range(6):\n",
    "    f.append(character_frequency(groups[i]));\n",
    "\n",
    "# f[5]"
   ]
  },
  {
   "cell_type": "code",
   "execution_count": 87,
   "id": "9d795a82",
   "metadata": {},
   "outputs": [],
   "source": [
    "# Githuhb:\n",
    "\n",
    "# def decrypt(ciphertext: str, key: str) -> str:\n",
    "#     plaintext = ''\n",
    "#     m = len(key)\n",
    "#     for index, letter in enumerate(ciphertext.lower()):\n",
    "#         plaintext += chr(\n",
    "#             (char_2_num(letter) - char_2_num(key[index % m])) % 26 + ord('a'))\n",
    "#     return plaintext.lower()"
   ]
  },
  {
   "cell_type": "code",
   "execution_count": 88,
   "id": "3ef388db",
   "metadata": {},
   "outputs": [],
   "source": [
    "# WORKS\n",
    "\n",
    "\n",
    "\n",
    "def vigenere_decrypt(ciphertext, key):\n",
    "    \"\"\"\n",
    "    Decrypts a Vigenere ciphertext using the provided key.\n",
    "    \"\"\"\n",
    "    decrypted_text = \"\"\n",
    "    key_length = len(key)\n",
    "    for i, char in enumerate(ciphertext):\n",
    "        if char.isalpha():\n",
    "            shift = ord(key[i % key_length].lower()) - ord('a')\n",
    "            if char.isupper():\n",
    "                decrypted_text += chr((ord(char) - shift - 65) % 26 + 65)\n",
    "            else:\n",
    "                decrypted_text += chr((ord(char) - shift - 97) % 26 + 97)\n",
    "        else:\n",
    "            decrypted_text += char\n",
    "    return decrypted_text\n",
    "\n",
    "# # Example usage:\n",
    "# ciphertext = \"LXFOPVEFRNHR\"\n",
    "# key = \"LEMON\"\n",
    "\n",
    "# decrypted_text = vigenere_decrypt(ciphertext, key)\n",
    "# print(decrypted_text)"
   ]
  },
  {
   "cell_type": "code",
   "execution_count": 89,
   "id": "788cad61",
   "metadata": {},
   "outputs": [
    {
     "name": "stdout",
     "output_type": "stream",
     "text": [
      "['B', 'R', 'U', 'T', 'U', 'S']\n"
     ]
    }
   ],
   "source": [
    "# guess key based on frequencies:\n",
    "\n",
    "# key = \"------\"\n",
    "\n",
    "shifts = [1,17,20,19,20,18]\n",
    "key = [chr(shifts[i] + ord('A')) for i in range(len(shifts))]\n",
    "\n",
    "print(key)"
   ]
  },
  {
   "cell_type": "code",
   "execution_count": 90,
   "id": "6d47bb0e",
   "metadata": {},
   "outputs": [
    {
     "name": "stdout",
     "output_type": "stream",
     "text": [
      "BEPATIENTTILLTHELASTROMANSCOUNTRYMENANDLOVERSHEARMEFORMYCAUSEANDBESILENTTHATYOUMAYHEARBELIEVEMEFORMINEHONOURANDHAVERESPECTTOMINEHONOURTHATYOUMAYBELIEVECENSUREMEINYOURWISDOMANDAWAKEYOURSENSESTHATYOUMAYTHEBETTERJUDGEIFTHEREBEANYINTHISASSEMBLYANYDEARFRIENDOFCAESARSTOHIMISAYTHATBRUTUSLOVETOCAESARWASNOLESSTHANHISIFTHENTHATFRIENDDEMANDWHYBRUTUSROSEAGAINSTCAESARTHISISMYANSWERNOTTHATILOVEDCAESARLESSBUTTHATILOVEDROMEMOREHADYOURATHERCAESARWERELIVINGANDDIEALLSLAVESTHANTHATCAESARWEREDEADTOLIVEALLFREEMENASCAESARLOVEDMEIWEEPFORHIMASHEWASFORTUNATEIREJOICEATITASHEWASVALIANTIHONOURHIMBUTASHEWASAMBITIOUSISLEWHIMTHEREISTEARSFORHISLOVEJOYFORHISFORTUNEHONOURFORHISVALOURANDDEATHFORHISAMBITIONWHOISHERESOBASETHATWOULDBEABONDMANIFANYSPEAKFORHIMHAVEIOFFENDEDWHOISHERESORUDETHATWOULDNOTBEAROMANIFANYSPEAKFORHIMHAVEIOFFENDEDWHOISHERESOVILETHATWILLNOTLOVEHISCOUNTRYIFANYSPEAKFORHIMHAVEIOFFENDEDIPAUSEFORAREPLYTHENNONEHAVEIOFFENDEDIHAVEDONENOMORETOCAESARTHANYOUSHALLDOTOBRUTUSTHEQUESTIONOFHISDEATHISENROLLEDINTHECAPITOLHISGLORYNOTEXTENUATEDWHEREINHEWASWORTHYNORHISOFFENCESENFORCEDFORWHICHHESUFFEREDDEATHHERECOMESHISBODYMOURNEDBYMARKANTONYWHOTHOUGHHEHADNOHANDINHISDEATHSHALLRECEIVETHEBENEFITOFHISDYINGAPLACEINTHECOMMONWEALTHASWHICHOFYOUSHALLNOTWITHTHISIDEPARTTHATASISLEWMYBESTLOVERFORTHEGOODOFROMEIHAVETHESAMEDAGGERFORMYSELFWHENITSHALLPLEASEMYCOUNTRYTONEEDMYDEATH\n"
     ]
    }
   ],
   "source": [
    "M = vigenere_decrypt(C, key)\n",
    "print(M)"
   ]
  }
 ],
 "metadata": {
  "kernelspec": {
   "display_name": "Python 3 (ipykernel)",
   "language": "python",
   "name": "python3"
  },
  "language_info": {
   "codemirror_mode": {
    "name": "ipython",
    "version": 3
   },
   "file_extension": ".py",
   "mimetype": "text/x-python",
   "name": "python",
   "nbconvert_exporter": "python",
   "pygments_lexer": "ipython3",
   "version": "3.9.7"
  }
 },
 "nbformat": 4,
 "nbformat_minor": 5
}
