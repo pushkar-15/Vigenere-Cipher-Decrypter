{
 "cells": [
  {
   "cell_type": "code",
   "execution_count": 1,
   "id": "27ae4851",
   "metadata": {},
   "outputs": [],
   "source": [
    "import string\n",
    "from math import sqrt"
   ]
  },
  {
   "cell_type": "code",
   "execution_count": 2,
   "id": "41d67d31",
   "metadata": {},
   "outputs": [],
   "source": [
    "# open the given files and store the text in variables:\n",
    "with open('helper-files\\mogambo.txt', 'r') as file:\n",
    "    C = file.read()\n",
    "    \n",
    "with open('helper-files\\interval.txt', 'r') as file:\n",
    "    intervals_lines = [line.rstrip() for line in file]"
   ]
  },
  {
   "cell_type": "code",
   "execution_count": 3,
   "id": "c59bf702",
   "metadata": {
    "scrolled": false
   },
   "outputs": [
    {
     "name": "stdout",
     "output_type": "stream",
     "text": [
      "CVJTNAFENMCDMKBXFSTKLHGSOJWHOFUISFYFBEXEINFIMAYSSDYYIJNPWTOKFRHWVWTZFXHLUYUMSGVDURBWBIVXFAFMYFYXPIGBHWIFHHOJBEXAUNFIYLJWDKNHGAOVBHHGVINAULZFOFUQCVFBYNFTYGMMSVGXCFZFOKQATUIFUFERQTEWZFOKMWOJYLNZBKSHOEBPNAYTFKNXLBVUAXCXUYYKYTFRHRCFUYCLUKTVGUFQBESWYSSWLBYFEFZVUWTRLLNGIZGBMSZKBTNTSLNNMDPMYMIUBVMTLOBJHHFWTJNAUFIZMBZLIVHMBSUWLBYFEUYFUFENBRVJVKOLLGTVUZUAOJNVUWTRLMBATZMFSSOJQXLFPKNAULJCIOYVDRYLUJMVMLVMUKBTNAMFPXXJPDYFIJFYUWSGVIUMBWSTUXMSSNYKYDJMCGASOUXBYSMCMEUNFJNAUFUYUMWSFJUKQWSVXXUVUFFBPWBCFYLWFDYGUKDRYLUJMFPXXEFZQXYHGFLACEBJBXQSTWIKNMORNXCJFAIBWWBKCMUKIVQTMNBCCTHLJYIGIMSYCFVMURMAYOBJUFVAUZINMATCYPBANKBXLWJJNXUJTWIKBATCIOYBPPZHLZJJZHLLVEYAIFPLLYIJIZMOUDPLLTHVEVUMBXPIBBMSNSCMCGONBHCKIVLXMGCRMXNZBKQHODESYTVGOUGTHAGRHRMHFREYIJIZGAUNFZIYZWOUYWQZPZMAYJFJIKOVFKBTNOPLFWHGUSYTLGNRHBZSOPMIYSLWIKBANYUOYAPWZXHVFUQAIATYYKYKPMCEYLIRNPCDMEIMFGWVBBMUPLHMLQJWUGSKQVUDZGSYCFBSWVCHZXFEXXXAQROLYXPIUKYHMPNAYFOFHXBSWVCHZXFEXXXAIRPXXGOVHHGGSVNHWSFJUKNZBESHOKIRFEXGUFVKOLVJNAYIVVMMCGOFZACKEVUMBATVHKIDMVXBHLIVWTJAUFFACKHCIKSFPKYQNWOLUMYVXYYKYAOYYPUKXFLMBQOFLACKPWZXHUFJYGZGSTYWZGSNBBWZIVMNZXFIYWXWBKBAYJFTIFYKIZMUIVZDINLFFUVRGSSBUGNGOPQAILIFOZBZFYUWHGIRHWCFIZMWYSUYMAUDMIYVYAWVNAYTFEYYCLPWBBMVZZHZUHMRWXCFUYYVIENFHPYSMKBTMOIZWAIXZFOLBSMCHHNOJKBMBATZXXJSSKNAULBJCLFWXDSUYKUCIOYJGFLMBWHFIWIXSFGXCZBMYMBWTRGXXSHXYKZGSDSLYDGNBXHAUJBTFDQCYTMWNPWHOFUISMIFFVXFSVFRNA\n",
      "\n",
      " length : 1342\n"
     ]
    }
   ],
   "source": [
    "print(C)\n",
    "print(\"\\n length :\", len(C))"
   ]
  },
  {
   "cell_type": "code",
   "execution_count": 4,
   "id": "61db603f",
   "metadata": {},
   "outputs": [
    {
     "name": "stdout",
     "output_type": "stream",
     "text": [
      "['TNA', '396', 'FEN', '323', 'CDM', '816', 'MKB', '1188', 'KBX', '588', 'XFS', '1319', 'SOJ', '342', 'WHO', '1296', 'HOF', '1296', 'OFU', '112', 'FUI', '1296', 'UIS', '1296', 'BEX', '72', 'NFI', '72', 'MAY', '534', 'YSS', '198', 'YIJ', '594', 'NPW', '1266', 'FRH', '162', 'RHW', '1074', 'VWT', '927', 'UYU', '390', 'YUM', '390', 'SGV', '342', 'VXF', '1247', 'YXP', '786', 'XPI', '570', 'AUN', '618', 'UNF', '342', 'FIY', '960', 'HHG', '791', 'GVI', '288', 'NAU', '168', 'AUL', '240', 'ZFO', '24', 'FOF', '754', 'OFU', '1184', 'FUQ', '663', 'GXC', '1116', 'XCF', '1026', 'ZFO', '18', 'FOK', '18', 'FUF', '156', 'UFE', '156', 'ZFO', '1032', 'NZB', '504', 'ZBK', '504', 'SHO', '744', 'PNA', '690', 'NAY', '690', 'AYT', '960', 'YTF', '18', 'UYY', '972', 'YYK', '594', 'YKY', '216', 'YTF', '942', 'RHR', '492', 'CFU', '960', 'FUY', '234', 'YCL', '938', 'TVG', '471', 'GUF', '711', 'BES', '696', 'WYS', '900', 'WLB', '72', 'LBY', '72', 'BYF', '72', 'YFE', '72', 'EFZ', '257', 'VUW', '96', 'UWT', '96', 'WTR', '96', 'TRL', '96', 'IZG', '462', 'BMS', '402', 'KBT', '126', 'BTN', '126', 'MYM', '996', 'OBJ', '288', 'WTJ', '693', 'JNA', '156', 'NAU', '72', 'AUF', '156', 'FIZ', '834', 'IZM', '342', 'LIV', '678', 'VKO', '614', 'KOL', '614', 'WTR', '930', 'LMB', '678', 'MBA', '618', 'BAT', '258', 'ATZ', '870', 'FPK', '636', 'KNA', '864', 'NAU', '84', 'AUL', '864', 'CIO', '240', 'IOY', '240', 'DRY', '114', 'RYL', '114', 'YLU', '114', 'LUJ', '114', 'UJM', '114', 'VMU', '180', 'MUK', '154', 'KBT', '360', 'BTN', '360', 'MFP', '102', 'FPX', '102', 'PXX', '102', 'XXJ', '827', 'FYU', '714', 'YUW', '714', 'UMB', '240', 'MBW', '840', 'YKY', '378', 'MCG', '236', 'YSM', '750', 'SMC', '768', 'UNF', '276', 'JNA', '498', 'NAU', '780', 'AUF', '536', 'FUY', '726', 'WSF', '462', 'SFJ', '462', 'FJU', '462', 'JUK', '462', 'UFF', '516', 'PWB', '686', 'PXX', '408', 'GFL', '744', 'FLA', '522', 'LAC', '522', 'TWI', '84', 'WIK', '84', 'WBK', '534', 'KIV', '132', 'SYC', '288', 'YCF', '288', 'MAY', '168', 'UFV', '364', 'ATC', '24', 'BAN', '192', 'WIK', '174', 'IKB', '174', 'KBA', '174', 'BAT', '360', 'CIO', '636', 'IOY', '636', 'ZHL', '6', 'PLL', '12', 'YIJ', '78', 'IJI', '78', 'JIZ', '78', 'IZM', '444', 'EVU', '312', 'VUM', '312', 'UMB', '312', 'XPI', '216', 'BBM', '168', 'MCG', '288', 'CGO', '288', 'NZB', '240', 'SYT', '66', 'AYJ', '336', 'YJF', '336', 'KBT', '444', 'LFW', '482', 'WHG', '366', 'MIY', '370', 'KBA', '292', 'PWZ', '246', 'WZX', '246', 'ZXH', '246', 'QAI', '312', 'YYK', '210', 'YKY', '210', 'BBM', '336', 'ZGS', '198', 'BSW', '36', 'SWV', '36', 'WVC', '36', 'VCH', '36', 'CHZ', '36', 'HZX', '36', 'ZXF', '36', 'XFE', '36', 'FEX', '36', 'EXX', '36', 'XXX', '36', 'XXA', '36', 'NAY', '66', 'ZXF', '168', 'FEX', '38', 'NAY', '204', 'ACK', '30', 'MBA', '252', 'BAT', '252', 'ACK', '42', 'FLM', '228', 'LMB', '228', 'ZGS', '6', 'ZGS', '234', 'IZM', '48', 'SUY', '105', 'MBW', '18', 'WHOF', '1296', 'HOFU', '1296', 'OFUI', '1296', 'FUIS', '1296', 'UYUM', '390', 'YXPI', '786', 'AUNF', '618', 'NAUL', '240', 'ZFOK', '18', 'FUFE', '156', 'NZBK', '504', 'PNAY', '690', 'NAYT', '960', 'AYTF', '960', 'YYKY', '594', 'CFUY', '960', 'WLBY', '72', 'LBYF', '72', 'BYFE', '72', 'VUWT', '96', 'UWTR', '96', 'WTRL', '96', 'KBTN', '126', 'JNAU', '156', 'NAUF', '156', 'FIZM', '834', 'VKOL', '614', 'MBAT', '618', 'BATZ', '870', 'KNAU', '864', 'NAUL', '864', 'CIOY', '240', 'DRYL', '114', 'RYLU', '114', 'YLUJ', '114', 'LUJM', '114', 'KBTN', '360', 'MFPX', '102', 'FPXX', '102', 'FYUW', '714', 'WSFJ', '462', 'SFJU', '462', 'FJUK', '462', 'FLAC', '522', 'TWIK', '84', 'SYCF', '288', 'WIKB', '174', 'IKBA', '174', 'CIOY', '636', 'YIJI', '78', 'IJIZ', '78', 'EVUM', '312', 'VUMB', '312', 'MCGO', '288', 'AYJF', '336', 'PWZX', '246', 'WZXH', '246', 'YYKY', '210', 'BSWV', '36', 'SWVC', '36', 'WVCH', '36', 'VCHZ', '36', 'CHZX', '36', 'HZXF', '36', 'ZXFE', '36', 'XFEX', '36', 'FEXX', '36', 'EXXX', '36', 'XXXA', '36', 'MBAT', '252', 'FLMB', '228', 'WHOFU', '1296', 'HOFUI', '1296', 'OFUIS', '1296', 'NAYTF', '960', 'WLBYF', '72', 'LBYFE', '72', 'VUWTR', '96', 'UWTRL', '96', 'JNAUF', '156', 'MBATZ', '870', 'KNAUL', '864', 'DRYLU', '114', 'RYLUJ', '114', 'YLUJM', '114', 'MFPXX', '102', 'WSFJU', '462', 'SFJUK', '462', 'WIKBA', '174', 'YIJIZ', '78', 'EVUMB', '312', 'PWZXH', '246', 'BSWVC', '36', 'SWVCH', '36', 'WVCHZ', '36', 'VCHZX', '36', 'CHZXF', '36', 'HZXFE', '36', 'ZXFEX', '36', 'XFEXX', '36', 'FEXXX', '36', 'EXXXA', '36', 'WHOFUI', '1296', 'HOFUIS', '1296', 'WLBYFE', '72', 'VUWTRL', '96', 'DRYLUJ', '114', 'RYLUJM', '114', 'WSFJUK', '462', 'BSWVCH', '36', 'SWVCHZ', '36', 'WVCHZX', '36', 'VCHZXF', '36', 'CHZXFE', '36', 'HZXFEX', '36', 'ZXFEXX', '36', 'XFEXXX', '36', 'FEXXXA', '36', 'WHOFUIS', '1296', 'DRYLUJM', '114', 'BSWVCHZ', '36', 'SWVCHZX', '36', 'WVCHZXF', '36', 'VCHZXFE', '36', 'CHZXFEX', '36', 'HZXFEXX', '36', 'ZXFEXXX', '36', 'XFEXXXA', '36', 'BSWVCHZX', '36', 'SWVCHZXF', '36', 'WVCHZXFE', '36', 'VCHZXFEX', '36', 'CHZXFEXX', '36', 'HZXFEXXX', '36', 'ZXFEXXXA', '36', 'BSWVCHZXF', '36', 'SWVCHZXFE', '36', 'WVCHZXFEX', '36', 'VCHZXFEXX', '36', 'CHZXFEXXX', '36', 'HZXFEXXXA', '36', 'BSWVCHZXFE', '36', 'SWVCHZXFEX', '36', 'WVCHZXFEXX', '36', 'VCHZXFEXXX', '36', 'CHZXFEXXXA', '36', 'BSWVCHZXFEX', '36', 'SWVCHZXFEXX', '36', 'WVCHZXFEXXX', '36', 'VCHZXFEXXXA', '36', 'BSWVCHZXFEXX', '36', 'SWVCHZXFEXXX', '36', 'WVCHZXFEXXXA', '36', 'BSWVCHZXFEXXX', '36', 'SWVCHZXFEXXXA', '36', 'BSWVCHZXFEXXXA', '36']\n",
      "\n",
      " length : 728\n"
     ]
    }
   ],
   "source": [
    "print(intervals_lines)\n",
    "print(\"\\n length :\", len(intervals_lines))"
   ]
  },
  {
   "cell_type": "code",
   "execution_count": 5,
   "id": "32b54fda",
   "metadata": {},
   "outputs": [
    {
     "name": "stdout",
     "output_type": "stream",
     "text": [
      "['396', '323', '816', '1188', '588', '1319', '342', '1296', '1296', '112', '1296', '1296', '72', '72', '534', '198', '594', '1266', '162', '1074', '927', '390', '390', '342', '1247', '786', '570', '618', '342', '960', '791', '288', '168', '240', '24', '754', '1184', '663', '1116', '1026', '18', '18', '156', '156', '1032', '504', '504', '744', '690', '690', '960', '18', '972', '594', '216', '942', '492', '960', '234', '938', '471', '711', '696', '900', '72', '72', '72', '72', '257', '96', '96', '96', '96', '462', '402', '126', '126', '996', '288', '693', '156', '72', '156', '834', '342', '678', '614', '614', '930', '678', '618', '258', '870', '636', '864', '84', '864', '240', '240', '114', '114', '114', '114', '114', '180', '154', '360', '360', '102', '102', '102', '827', '714', '714', '240', '840', '378', '236', '750', '768', '276', '498', '780', '536', '726', '462', '462', '462', '462', '516', '686', '408', '744', '522', '522', '84', '84', '534', '132', '288', '288', '168', '364', '24', '192', '174', '174', '174', '360', '636', '636', '6', '12', '78', '78', '78', '444', '312', '312', '312', '216', '168', '288', '288', '240', '66', '336', '336', '444', '482', '366', '370', '292', '246', '246', '246', '312', '210', '210', '336', '198', '36', '36', '36', '36', '36', '36', '36', '36', '36', '36', '36', '36', '66', '168', '38', '204', '30', '252', '252', '42', '228', '228', '6', '234', '48', '105', '18', '1296', '1296', '1296', '1296', '390', '786', '618', '240', '18', '156', '504', '690', '960', '960', '594', '960', '72', '72', '72', '96', '96', '96', '126', '156', '156', '834', '614', '618', '870', '864', '864', '240', '114', '114', '114', '114', '360', '102', '102', '714', '462', '462', '462', '522', '84', '288', '174', '174', '636', '78', '78', '312', '312', '288', '336', '246', '246', '210', '36', '36', '36', '36', '36', '36', '36', '36', '36', '36', '36', '252', '228', '1296', '1296', '1296', '960', '72', '72', '96', '96', '156', '870', '864', '114', '114', '114', '102', '462', '462', '174', '78', '312', '246', '36', '36', '36', '36', '36', '36', '36', '36', '36', '36', '1296', '1296', '72', '96', '114', '114', '462', '36', '36', '36', '36', '36', '36', '36', '36', '36', '1296', '114', '36', '36', '36', '36', '36', '36', '36', '36', '36', '36', '36', '36', '36', '36', '36', '36', '36', '36', '36', '36', '36', '36', '36', '36', '36', '36', '36', '36', '36', '36', '36', '36', '36', '36', '36', '36']\n"
     ]
    }
   ],
   "source": [
    "intervals = [intervals_lines[i] for i in range(1,len(intervals_lines),2)]\n",
    "print(intervals)"
   ]
  },
  {
   "cell_type": "markdown",
   "id": "860486c6",
   "metadata": {},
   "source": [
    "# Implementing Kasiski Examination"
   ]
  },
  {
   "cell_type": "code",
   "execution_count": 6,
   "id": "1ba08746",
   "metadata": {},
   "outputs": [
    {
     "name": "stdout",
     "output_type": "stream",
     "text": [
      "Possible Key Lengths:  [1, 2, 3, 6, 4, 12, 9, 18, 8, 16, 7, 14, 5, 10, 15, 13, 19, 11, 20, 17]\n"
     ]
    }
   ],
   "source": [
    "def _get_factors(number):\n",
    "    \"\"\"\n",
    "    Returns a sorted list of all factors of a number.\n",
    "    \"\"\"\n",
    "    \n",
    "    factors = set()\n",
    "    for i in range(1, int(sqrt(number))+1):\n",
    "        if number % i == 0:\n",
    "            factors.add(i)\n",
    "            factors.add(number//i)\n",
    "    return sorted(factors)\n",
    "\n",
    "\n",
    "\n",
    "def _candidate_key_lengths(factor_lists, max_key_len):\n",
    "    \"\"\"\n",
    "    Returns a list of all possible key lengths, sorted in decsending order based on probability.\n",
    "    \"\"\"\n",
    "    \n",
    "    all_factors = [factor_lists[lst][fac] for lst in range(len(factor_lists)) for fac in range(len(factor_lists[lst]))]\n",
    "    \n",
    "    # exclude factors larger than suspected max key length\n",
    "    candidate_lengths = list(filter(lambda x:  x <= max_key_len, all_factors))\n",
    "    \n",
    "    # sort by probability (descending)\n",
    "    sorted_candidates = sorted(set(candidate_lengths), key=lambda x: all_factors.count(x), reverse=True)\n",
    "    return sorted_candidates\n",
    "\n",
    "\n",
    "\n",
    "mp = []\n",
    "for interval in intervals:\n",
    "    factors = _get_factors(int(interval))\n",
    "    mp.append(factors)\n",
    "\n",
    "    \n",
    "# print our possibilities: (given that Key length <= 20)\n",
    "print(\"Possible Key Lengths: \", _candidate_key_lengths(mp, 20))"
   ]
  },
  {
   "cell_type": "markdown",
   "id": "02226700",
   "metadata": {},
   "source": [
    "**From this output we infer that the most probable key length is 6.<br>\n",
    "This is because we can see that all the factors and multiples of 6 are present in the output.<br>\n",
    "Hence we assume that Key Length = 6 and proceed.\n",
    "Hence, the guessed key length is 6.**"
   ]
  },
  {
   "cell_type": "markdown",
   "id": "d454a94a",
   "metadata": {},
   "source": [
    "# Frequency Analysis"
   ]
  },
  {
   "cell_type": "code",
   "execution_count": 7,
   "id": "a8be9592",
   "metadata": {},
   "outputs": [],
   "source": [
    "# make 6 groups by sliding window and do frequency analysis on 6 groups:\n",
    "# i, i+6, i+12, ...\n",
    "# i+1, i+7, i+13, ...\n",
    "# ...\n",
    "# i+5, i+11, 1+17, ...\n",
    "\n",
    "\n",
    "# groups_0 = []\n",
    "# groups_1 = []\n",
    "# groups_2 = []\n",
    "# groups_3 = []\n",
    "# groups_4 = []\n",
    "# groups_5 = []\n",
    "\n",
    "# groups_0 = [C[i] for i in range(0, len(C), 6)]\n",
    "# groups_1 = [C[i] for i in range(1, len(C), 6)]\n",
    "# groups_2 = [C[i] for i in range(2, len(C), 6)]\n",
    "# groups_3 = [C[i] for i in range(3, len(C), 6)]\n",
    "# groups_4 = [C[i] for i in range(4, len(C), 6)]\n",
    "# groups_5 = [C[i] for i in range(5, len(C), 6)]\n",
    "\n",
    "\n",
    "# group the given ciphertext into 6 groups:\n",
    "groups = []\n",
    "for k in range(6):\n",
    "    groups.append([C[i] for i in range(k, len(C), 6)])"
   ]
  },
  {
   "cell_type": "code",
   "execution_count": 8,
   "id": "0426acaf",
   "metadata": {},
   "outputs": [],
   "source": [
    "def character_frequency(char_list):\n",
    "    \"\"\"\n",
    "    Given a list of characters, returns a dictionary containing frequency of each character.\n",
    "    \"\"\"\n",
    "    \n",
    "    frequency_dict = {}\n",
    "    for char in char_list:\n",
    "        if char in frequency_dict:\n",
    "            frequency_dict[char] += 1\n",
    "        else:\n",
    "            frequency_dict[char] = 1\n",
    "    return frequency_dict\n",
    "\n",
    "\n",
    "# f[i] stores the character_frequency dictionary of ith group.\n",
    "f = []\n",
    "for i in range(6):\n",
    "    f.append(character_frequency(groups[i]));"
   ]
  },
  {
   "cell_type": "code",
   "execution_count": 9,
   "id": "3f2a021e",
   "metadata": {
    "scrolled": false
   },
   "outputs": [
    {
     "name": "stdout",
     "output_type": "stream",
     "text": [
      "[{'C': 3, 'F': 30, 'M': 12, 'T': 17, 'O': 18, 'U': 18, 'B': 18, 'S': 16, 'N': 7, 'V': 8, 'P': 17, 'I': 18, 'D': 3, 'Z': 7, 'E': 7, 'J': 7, 'G': 4, 'L': 1, 'W': 4, 'Q': 3, 'H': 3, 'X': 3}, {'V': 27, 'E': 10, 'K': 18, 'J': 18, 'I': 12, 'D': 7, 'P': 7, 'R': 21, 'Z': 15, 'Y': 15, 'M': 5, 'F': 21, 'T': 4, 'U': 8, 'W': 9, 'L': 6, 'N': 5, 'C': 10, 'A': 1, 'S': 3, 'B': 1, 'X': 1}, {'J': 1, 'N': 19, 'B': 18, 'L': 12, 'W': 6, 'S': 7, 'X': 9, 'M': 16, 'Y': 31, 'H': 15, 'F': 7, 'U': 19, 'V': 3, 'G': 8, 'O': 7, 'I': 17, 'Q': 7, 'A': 1, 'C': 11, 'Z': 6, 'P': 3, 'E': 1}, {'T': 17, 'M': 20, 'X': 29, 'H': 18, 'F': 12, 'E': 4, 'A': 25, 'Y': 6, 'W': 11, 'R': 5, 'B': 15, 'L': 12, 'G': 7, 'K': 17, 'U': 3, 'V': 4, 'N': 4, 'Z': 3, 'O': 5, 'P': 4, 'I': 1, 'D': 1, 'Q': 1}, {'N': 12, 'C': 17, 'F': 7, 'G': 4, 'O': 9, 'Y': 35, 'I': 16, 'V': 6, 'H': 12, 'S': 6, 'B': 17, 'U': 25, 'J': 3, 'M': 14, 'Q': 4, 'E': 1, 'L': 11, 'Z': 10, 'X': 8, 'A': 1, 'W': 4, 'P': 1}, {'A': 23, 'D': 10, 'S': 24, 'F': 19, 'N': 6, 'J': 14, 'K': 14, 'W': 22, 'L': 12, 'G': 21, 'X': 9, 'Q': 4, 'M': 5, 'Z': 8, 'E': 4, 'T': 4, 'B': 2, 'U': 3, 'O': 5, 'V': 9, 'H': 4, 'I': 1}]\n"
     ]
    }
   ],
   "source": [
    "print(f)"
   ]
  },
  {
   "cell_type": "code",
   "execution_count": 10,
   "id": "b104162e",
   "metadata": {
    "scrolled": true
   },
   "outputs": [
    {
     "name": "stdout",
     "output_type": "stream",
     "text": [
      "For i = 0 , f[i] = {'C': 3, 'F': 30, 'M': 12, 'T': 17, 'O': 18, 'U': 18, 'B': 18, 'S': 16, 'N': 7, 'V': 8, 'P': 17, 'I': 18, 'D': 3, 'Z': 7, 'E': 7, 'J': 7, 'G': 4, 'L': 1, 'W': 4, 'Q': 3, 'H': 3, 'X': 3} \n",
      "\n",
      "\n",
      "For i = 1 , f[i] = {'V': 27, 'E': 10, 'K': 18, 'J': 18, 'I': 12, 'D': 7, 'P': 7, 'R': 21, 'Z': 15, 'Y': 15, 'M': 5, 'F': 21, 'T': 4, 'U': 8, 'W': 9, 'L': 6, 'N': 5, 'C': 10, 'A': 1, 'S': 3, 'B': 1, 'X': 1} \n",
      "\n",
      "\n",
      "For i = 2 , f[i] = {'J': 1, 'N': 19, 'B': 18, 'L': 12, 'W': 6, 'S': 7, 'X': 9, 'M': 16, 'Y': 31, 'H': 15, 'F': 7, 'U': 19, 'V': 3, 'G': 8, 'O': 7, 'I': 17, 'Q': 7, 'A': 1, 'C': 11, 'Z': 6, 'P': 3, 'E': 1} \n",
      "\n",
      "\n",
      "For i = 3 , f[i] = {'T': 17, 'M': 20, 'X': 29, 'H': 18, 'F': 12, 'E': 4, 'A': 25, 'Y': 6, 'W': 11, 'R': 5, 'B': 15, 'L': 12, 'G': 7, 'K': 17, 'U': 3, 'V': 4, 'N': 4, 'Z': 3, 'O': 5, 'P': 4, 'I': 1, 'D': 1, 'Q': 1} \n",
      "\n",
      "\n",
      "For i = 4 , f[i] = {'N': 12, 'C': 17, 'F': 7, 'G': 4, 'O': 9, 'Y': 35, 'I': 16, 'V': 6, 'H': 12, 'S': 6, 'B': 17, 'U': 25, 'J': 3, 'M': 14, 'Q': 4, 'E': 1, 'L': 11, 'Z': 10, 'X': 8, 'A': 1, 'W': 4, 'P': 1} \n",
      "\n",
      "\n",
      "For i = 5 , f[i] = {'A': 23, 'D': 10, 'S': 24, 'F': 19, 'N': 6, 'J': 14, 'K': 14, 'W': 22, 'L': 12, 'G': 21, 'X': 9, 'Q': 4, 'M': 5, 'Z': 8, 'E': 4, 'T': 4, 'B': 2, 'U': 3, 'O': 5, 'V': 9, 'H': 4, 'I': 1} \n",
      "\n",
      "\n"
     ]
    }
   ],
   "source": [
    "for i in range(6):\n",
    "    print(\"For i =\", i, \", f[i] =\", f[i], \"\\n\\n\")"
   ]
  },
  {
   "cell_type": "markdown",
   "id": "082148ad",
   "metadata": {},
   "source": [
    "**By comparing these frequencies to the Letter Frequencies in English language, we derive the possible key.\n",
    "Hence, Frequency Analysis was performed on each group[i] seperately.**"
   ]
  },
  {
   "cell_type": "code",
   "execution_count": 11,
   "id": "788cad61",
   "metadata": {},
   "outputs": [
    {
     "name": "stdout",
     "output_type": "stream",
     "text": [
      "key = ['B', 'R', 'U', 'T', 'U', 'S']\n"
     ]
    }
   ],
   "source": [
    "# Guess the Key based on groupwise frequencies:\n",
    "\n",
    "# key = \"------\"\n",
    "\n",
    "shifts = [1,17,20,19,20,18] # Derived from Frequency Analysis.\n",
    "key = [chr(shifts[i] + ord('A')) for i in range(len(shifts))]\n",
    "\n",
    "print(\"key =\", key)"
   ]
  },
  {
   "cell_type": "markdown",
   "id": "4e7a8001",
   "metadata": {},
   "source": [
    "# Decryption using information obtained in previous steps"
   ]
  },
  {
   "cell_type": "code",
   "execution_count": 12,
   "id": "46435769",
   "metadata": {},
   "outputs": [],
   "source": [
    "def vigenere_decrypt(ciphertext, key):\n",
    "    \"\"\"\n",
    "    Decrypts a Vigenere ciphertext using the provided key.\n",
    "    \"\"\"\n",
    "    decrypted_text = \"\"\n",
    "    key_length = len(key)\n",
    "    for i, char in enumerate(ciphertext):\n",
    "        if char.isalpha():\n",
    "            shift = ord(key[i % key_length].lower()) - ord('a')\n",
    "            if char.isupper():\n",
    "                decrypted_text += chr((ord(char) - shift - 65) % 26 + 65)\n",
    "            else:\n",
    "                decrypted_text += chr((ord(char) - shift - 97) % 26 + 97)\n",
    "        else:\n",
    "            decrypted_text += char\n",
    "    return decrypted_text\n",
    "\n",
    "# # Example usage:\n",
    "# ciphertext = \"LXFOPVEFRNHR\"\n",
    "# key = \"LEMON\"\n",
    "\n",
    "# decrypted_text = vigenere_decrypt(ciphertext, key)\n",
    "# print(decrypted_text)"
   ]
  },
  {
   "cell_type": "code",
   "execution_count": 13,
   "id": "6d47bb0e",
   "metadata": {},
   "outputs": [
    {
     "name": "stdout",
     "output_type": "stream",
     "text": [
      "BEPATIENTTILLTHELASTROMANSCOUNTRYMENANDLOVERSHEARMEFORMYCAUSEANDBESILENTTHATYOUMAYHEARBELIEVEMEFORMINEHONOURANDHAVERESPECTTOMINEHONOURTHATYOUMAYBELIEVECENSUREMEINYOURWISDOMANDAWAKEYOURSENSESTHATYOUMAYTHEBETTERJUDGEIFTHEREBEANYINTHISASSEMBLYANYDEARFRIENDOFCAESARSTOHIMISAYTHATBRUTUSLOVETOCAESARWASNOLESSTHANHISIFTHENTHATFRIENDDEMANDWHYBRUTUSROSEAGAINSTCAESARTHISISMYANSWERNOTTHATILOVEDCAESARLESSBUTTHATILOVEDROMEMOREHADYOURATHERCAESARWERELIVINGANDDIEALLSLAVESTHANTHATCAESARWEREDEADTOLIVEALLFREEMENASCAESARLOVEDMEIWEEPFORHIMASHEWASFORTUNATEIREJOICEATITASHEWASVALIANTIHONOURHIMBUTASHEWASAMBITIOUSISLEWHIMTHEREISTEARSFORHISLOVEJOYFORHISFORTUNEHONOURFORHISVALOURANDDEATHFORHISAMBITIONWHOISHERESOBASETHATWOULDBEABONDMANIFANYSPEAKFORHIMHAVEIOFFENDEDWHOISHERESORUDETHATWOULDNOTBEAROMANIFANYSPEAKFORHIMHAVEIOFFENDEDWHOISHERESOVILETHATWILLNOTLOVEHISCOUNTRYIFANYSPEAKFORHIMHAVEIOFFENDEDIPAUSEFORAREPLYTHENNONEHAVEIOFFENDEDIHAVEDONENOMORETOCAESARTHANYOUSHALLDOTOBRUTUSTHEQUESTIONOFHISDEATHISENROLLEDINTHECAPITOLHISGLORYNOTEXTENUATEDWHEREINHEWASWORTHYNORHISOFFENCESENFORCEDFORWHICHHESUFFEREDDEATHHERECOMESHISBODYMOURNEDBYMARKANTONYWHOTHOUGHHEHADNOHANDINHISDEATHSHALLRECEIVETHEBENEFITOFHISDYINGAPLACEINTHECOMMONWEALTHASWHICHOFYOUSHALLNOTWITHTHISIDEPARTTHATASISLEWMYBESTLOVERFORTHEGOODOFROMEIHAVETHESAMEDAGGERFORMYSELFWHENITSHALLPLEASEMYCOUNTRYTONEEDMYDEATH\n"
     ]
    }
   ],
   "source": [
    "# decrypted text (plaintext)\n",
    "M = vigenere_decrypt(C, key)\n",
    "print(M)"
   ]
  }
 ],
 "metadata": {
  "kernelspec": {
   "display_name": "Python 3 (ipykernel)",
   "language": "python",
   "name": "python3"
  },
  "language_info": {
   "codemirror_mode": {
    "name": "ipython",
    "version": 3
   },
   "file_extension": ".py",
   "mimetype": "text/x-python",
   "name": "python",
   "nbconvert_exporter": "python",
   "pygments_lexer": "ipython3",
   "version": "3.9.7"
  }
 },
 "nbformat": 4,
 "nbformat_minor": 5
}
